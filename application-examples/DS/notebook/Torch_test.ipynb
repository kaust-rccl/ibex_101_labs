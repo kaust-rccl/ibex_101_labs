{
 "cells": [
  {
   "cell_type": "code",
   "execution_count": 1,
   "id": "2b62b1e0-05aa-44d1-b530-c6b12b57b83b",
   "metadata": {},
   "outputs": [],
   "source": [
    "import torch"
   ]
  },
  {
   "cell_type": "code",
   "execution_count": 2,
   "id": "519c4758-de5a-474a-9531-92fdb11d8e8a",
   "metadata": {},
   "outputs": [],
   "source": [
    "x = torch.rand(5, 3)"
   ]
  },
  {
   "cell_type": "code",
   "execution_count": 3,
   "id": "7be808ad-4666-432e-89a4-353f9ad824f8",
   "metadata": {},
   "outputs": [
    {
     "name": "stdout",
     "output_type": "stream",
     "text": [
      "tensor([[0.2081, 0.5251, 0.0243],\n",
      "        [0.6588, 0.7807, 0.5426],\n",
      "        [0.1026, 0.1230, 0.3099],\n",
      "        [0.1423, 0.8808, 0.5981],\n",
      "        [0.4626, 0.1693, 0.7615]])\n"
     ]
    }
   ],
   "source": [
    "print (x)"
   ]
  },
  {
   "cell_type": "code",
   "execution_count": 4,
   "id": "79c1459c-e515-4cb1-93f3-39588f9dfff8",
   "metadata": {},
   "outputs": [
    {
     "name": "stdout",
     "output_type": "stream",
     "text": [
      "Is there a GPU?                   ..............  True\n",
      "How many GPUs do we have          ..............  1\n",
      "GPU properties                    ..............  _CudaDeviceProperties(name='Tesla V100-SXM2-32GB', major=7, minor=0, total_memory=32501MB, multi_processor_count=80)\n",
      "Supported GPU micro-architectures ..............  ['sm_50', 'sm_60', 'sm_61', 'sm_70', 'sm_75', 'sm_80', 'sm_86', 'sm_37', 'sm_90', 'compute_37']\n",
      "Which GPU micro-architecture is this?...........  (7, 0)\n",
      "Number of threads available on host ............  6\n"
     ]
    }
   ],
   "source": [
    "import torchvision\n",
    "\n",
    "\n",
    "print('Is there a GPU?                   .............. ',torch.cuda.is_available())\n",
    "print('How many GPUs do we have          .............. ',torch.cuda.device_count())\n",
    "print('GPU properties                    .............. ',torch.cuda.get_device_properties(torch.cuda.current_device()))\n",
    "print('Supported GPU micro-architectures .............. ',torch.cuda.get_arch_list())\n",
    "print('Which GPU micro-architecture is this?........... ',torch.cuda.get_device_capability())\n",
    "\n",
    "print('Number of threads available on host ............ ',torch.get_num_threads())"
   ]
  }
 ],
 "metadata": {
  "kernelspec": {
   "display_name": "Python 3 (ipykernel)",
   "language": "python",
   "name": "python3"
  },
  "language_info": {
   "codemirror_mode": {
    "name": "ipython",
    "version": 3
   },
   "file_extension": ".py",
   "mimetype": "text/x-python",
   "name": "python",
   "nbconvert_exporter": "python",
   "pygments_lexer": "ipython3",
   "version": "3.9.15"
  },
  "vscode": {
   "interpreter": {
    "hash": "e7370f93d1d0cde622a1f8e1c04877d8463912d04d973331ad4851f04de6915a"
   }
  }
 },
 "nbformat": 4,
 "nbformat_minor": 5
}
